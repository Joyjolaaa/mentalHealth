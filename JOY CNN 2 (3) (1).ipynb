{
 "cells": [
  {
   "cell_type": "markdown",
   "metadata": {
    "id": "eawHKnrXN_bj"
   },
   "source": [
    "Environmental Setup and Data Loading"
   ]
  },
  {
   "cell_type": "code",
   "execution_count": 1,
   "metadata": {
    "id": "f6E0ZD36OHsZ"
   },
   "outputs": [],
   "source": [
    "#importing required libraries\n",
    "import matplotlib.pyplot as plt\n",
    "import numpy as np\n",
    "from sklearn.metrics import confusion_matrix\n",
    "from sklearn.model_selection import train_test_split\n",
    "import tensorflow as tf\n",
    "from tensorflow.keras.models import Sequential\n",
    "import pandas as pd\n",
    "%matplotlib inline "
   ]
  },
  {
   "cell_type": "code",
   "execution_count": 2,
   "metadata": {
    "id": "O_KyGRH5SvoW"
   },
   "outputs": [],
   "source": [
    "# reading dataset\n",
    "data = pd.read_csv('JOY DATASET 2.csv')"
   ]
  },
  {
   "cell_type": "code",
   "execution_count": 3,
   "metadata": {
    "colab": {
     "base_uri": "https://localhost:8080/",
     "height": 300
    },
    "id": "Zki5JppcP3O5",
    "outputId": "6ecc7e43-2b49-4a9d-ab02-0bcf822d2b28"
   },
   "outputs": [
    {
     "data": {
      "text/html": [
       "<div>\n",
       "<style scoped>\n",
       "    .dataframe tbody tr th:only-of-type {\n",
       "        vertical-align: middle;\n",
       "    }\n",
       "\n",
       "    .dataframe tbody tr th {\n",
       "        vertical-align: top;\n",
       "    }\n",
       "\n",
       "    .dataframe thead th {\n",
       "        text-align: right;\n",
       "    }\n",
       "</style>\n",
       "<table border=\"1\" class=\"dataframe\">\n",
       "  <thead>\n",
       "    <tr style=\"text-align: right;\">\n",
       "      <th></th>\n",
       "      <th>Age</th>\n",
       "      <th>Gender</th>\n",
       "      <th>family_history</th>\n",
       "      <th>work_interfere</th>\n",
       "      <th>mental_health_consequence</th>\n",
       "      <th>phys_health_consequence</th>\n",
       "      <th>obs_consequence</th>\n",
       "      <th>treatment</th>\n",
       "    </tr>\n",
       "  </thead>\n",
       "  <tbody>\n",
       "    <tr>\n",
       "      <th>0</th>\n",
       "      <td>37</td>\n",
       "      <td>1</td>\n",
       "      <td>0</td>\n",
       "      <td>2</td>\n",
       "      <td>0.0</td>\n",
       "      <td>0.0</td>\n",
       "      <td>0</td>\n",
       "      <td>1</td>\n",
       "    </tr>\n",
       "    <tr>\n",
       "      <th>1</th>\n",
       "      <td>44</td>\n",
       "      <td>0</td>\n",
       "      <td>0</td>\n",
       "      <td>1</td>\n",
       "      <td>0.5</td>\n",
       "      <td>0.0</td>\n",
       "      <td>0</td>\n",
       "      <td>0</td>\n",
       "    </tr>\n",
       "    <tr>\n",
       "      <th>2</th>\n",
       "      <td>32</td>\n",
       "      <td>0</td>\n",
       "      <td>0</td>\n",
       "      <td>1</td>\n",
       "      <td>0.0</td>\n",
       "      <td>0.0</td>\n",
       "      <td>0</td>\n",
       "      <td>0</td>\n",
       "    </tr>\n",
       "    <tr>\n",
       "      <th>3</th>\n",
       "      <td>31</td>\n",
       "      <td>0</td>\n",
       "      <td>1</td>\n",
       "      <td>2</td>\n",
       "      <td>1.0</td>\n",
       "      <td>1.0</td>\n",
       "      <td>1</td>\n",
       "      <td>1</td>\n",
       "    </tr>\n",
       "    <tr>\n",
       "      <th>4</th>\n",
       "      <td>31</td>\n",
       "      <td>0</td>\n",
       "      <td>0</td>\n",
       "      <td>0</td>\n",
       "      <td>0.0</td>\n",
       "      <td>0.0</td>\n",
       "      <td>0</td>\n",
       "      <td>0</td>\n",
       "    </tr>\n",
       "  </tbody>\n",
       "</table>\n",
       "</div>"
      ],
      "text/plain": [
       "   Age  Gender  family_history  work_interfere  mental_health_consequence  \\\n",
       "0   37       1               0               2                        0.0   \n",
       "1   44       0               0               1                        0.5   \n",
       "2   32       0               0               1                        0.0   \n",
       "3   31       0               1               2                        1.0   \n",
       "4   31       0               0               0                        0.0   \n",
       "\n",
       "   phys_health_consequence  obs_consequence  treatment  \n",
       "0                      0.0                0          1  \n",
       "1                      0.0                0          0  \n",
       "2                      0.0                0          0  \n",
       "3                      1.0                1          1  \n",
       "4                      0.0                0          0  "
      ]
     },
     "execution_count": 3,
     "metadata": {},
     "output_type": "execute_result"
    }
   ],
   "source": [
    "# show the 1st 5 lines of dataset\n",
    "data.head()"
   ]
  },
  {
   "cell_type": "code",
   "execution_count": 4,
   "metadata": {
    "colab": {
     "base_uri": "https://localhost:8080/"
    },
    "id": "LyrYjmBhTTCC",
    "outputId": "dc94814c-9876-4b6e-d3a8-580bd02d9417"
   },
   "outputs": [
    {
     "data": {
      "text/plain": [
       "Index(['Age', 'Gender', 'family_history', 'work_interfere',\n",
       "       'mental_health_consequence', 'phys_health_consequence',\n",
       "       'obs_consequence', 'treatment'],\n",
       "      dtype='object')"
      ]
     },
     "execution_count": 4,
     "metadata": {},
     "output_type": "execute_result"
    }
   ],
   "source": [
    "#checking the columns\n",
    "data.columns"
   ]
  },
  {
   "cell_type": "markdown",
   "metadata": {
    "id": "S6mShFbyRtg6"
   },
   "source": [
    "Preprocessing"
   ]
  },
  {
   "cell_type": "code",
   "execution_count": 5,
   "metadata": {
    "colab": {
     "base_uri": "https://localhost:8080/"
    },
    "id": "98h0y3XYT9iL",
    "outputId": "9509e953-fd0d-41b0-d237-0b3d5976f5e7"
   },
   "outputs": [
    {
     "data": {
      "text/plain": [
       "1    1274\n",
       "0    1244\n",
       "Name: treatment, dtype: int64"
      ]
     },
     "execution_count": 5,
     "metadata": {},
     "output_type": "execute_result"
    }
   ],
   "source": [
    "#inspecting sample distribution per class using 'attack_status' where 1 means DDOS and 0 means Normal \n",
    "data['treatment'].value_counts()"
   ]
  },
  {
   "cell_type": "code",
   "execution_count": 6,
   "metadata": {
    "colab": {
     "base_uri": "https://localhost:8080/"
    },
    "id": "-d6SPg1VkQKX",
    "outputId": "bf2ff0e6-e6f2-4771-a0ac-20ff43bedcbf"
   },
   "outputs": [],
   "source": [
    "#data['LnK'].value_counts()"
   ]
  },
  {
   "cell_type": "markdown",
   "metadata": {
    "id": "OcmBJOIeUbYH"
   },
   "source": [
    "This shows that the data is grossly imbalance"
   ]
  },
  {
   "cell_type": "code",
   "execution_count": 7,
   "metadata": {
    "id": "5K8GUMn7SzNL"
   },
   "outputs": [],
   "source": [
    "#defining input\n",
    "input = data[['Age', 'Gender', 'family_history', 'work_interfere']]"
   ]
  },
  {
   "cell_type": "code",
   "execution_count": 8,
   "metadata": {
    "id": "NSOCbhznS_ve"
   },
   "outputs": [],
   "source": [
    "#defining labels\n",
    "label = data['treatment']"
   ]
  },
  {
   "cell_type": "code",
   "execution_count": 9,
   "metadata": {
    "id": "CiOVyw4oTIex"
   },
   "outputs": [],
   "source": [
    "#spliting dataset into train and evaluation set at 80:20 ratio\n",
    "train, val, train_label, val_label = train_test_split(input, label, \n",
    "                                                    test_size=0.2, \n",
    "                                                    random_state=42)"
   ]
  },
  {
   "cell_type": "code",
   "execution_count": 10,
   "metadata": {
    "colab": {
     "base_uri": "https://localhost:8080/"
    },
    "id": "ZAwqVDxhM4oK",
    "outputId": "eb87367f-8877-4379-b213-fd2b754f6468"
   },
   "outputs": [
    {
     "name": "stdout",
     "output_type": "stream",
     "text": [
      "The length of train set is:  2014\n",
      "The length of validation set is:  504\n"
     ]
    }
   ],
   "source": [
    "print('The length of train set is: ', len(train))\n",
    "print('The length of validation set is: ', len(val))"
   ]
  },
  {
   "cell_type": "code",
   "execution_count": 11,
   "metadata": {
    "colab": {
     "base_uri": "https://localhost:8080/",
     "height": 235
    },
    "id": "qieqhMsXYoiG",
    "outputId": "07ce0328-c65d-4f2b-e408-38d88ca03c2e"
   },
   "outputs": [
    {
     "data": {
      "text/html": [
       "<div>\n",
       "<style scoped>\n",
       "    .dataframe tbody tr th:only-of-type {\n",
       "        vertical-align: middle;\n",
       "    }\n",
       "\n",
       "    .dataframe tbody tr th {\n",
       "        vertical-align: top;\n",
       "    }\n",
       "\n",
       "    .dataframe thead th {\n",
       "        text-align: right;\n",
       "    }\n",
       "</style>\n",
       "<table border=\"1\" class=\"dataframe\">\n",
       "  <thead>\n",
       "    <tr style=\"text-align: right;\">\n",
       "      <th></th>\n",
       "      <th>Age</th>\n",
       "      <th>Gender</th>\n",
       "      <th>family_history</th>\n",
       "      <th>work_interfere</th>\n",
       "    </tr>\n",
       "  </thead>\n",
       "  <tbody>\n",
       "    <tr>\n",
       "      <th>1313</th>\n",
       "      <td>28</td>\n",
       "      <td>0</td>\n",
       "      <td>0</td>\n",
       "      <td>0</td>\n",
       "    </tr>\n",
       "    <tr>\n",
       "      <th>2151</th>\n",
       "      <td>29</td>\n",
       "      <td>0</td>\n",
       "      <td>1</td>\n",
       "      <td>0</td>\n",
       "    </tr>\n",
       "    <tr>\n",
       "      <th>1159</th>\n",
       "      <td>51</td>\n",
       "      <td>0</td>\n",
       "      <td>0</td>\n",
       "      <td>0</td>\n",
       "    </tr>\n",
       "    <tr>\n",
       "      <th>289</th>\n",
       "      <td>26</td>\n",
       "      <td>1</td>\n",
       "      <td>1</td>\n",
       "      <td>1</td>\n",
       "    </tr>\n",
       "    <tr>\n",
       "      <th>1186</th>\n",
       "      <td>56</td>\n",
       "      <td>1</td>\n",
       "      <td>0</td>\n",
       "      <td>1</td>\n",
       "    </tr>\n",
       "  </tbody>\n",
       "</table>\n",
       "</div>"
      ],
      "text/plain": [
       "      Age  Gender  family_history  work_interfere\n",
       "1313   28       0               0               0\n",
       "2151   29       0               1               0\n",
       "1159   51       0               0               0\n",
       "289    26       1               1               1\n",
       "1186   56       1               0               1"
      ]
     },
     "execution_count": 11,
     "metadata": {},
     "output_type": "execute_result"
    }
   ],
   "source": [
    "#inspecting train set\n",
    "train.head()"
   ]
  },
  {
   "cell_type": "code",
   "execution_count": 12,
   "metadata": {
    "colab": {
     "base_uri": "https://localhost:8080/",
     "height": 235
    },
    "id": "UDcm47OnZWSS",
    "outputId": "7144558b-13ed-487d-f3f8-244128b8befe"
   },
   "outputs": [
    {
     "data": {
      "text/html": [
       "<div>\n",
       "<style scoped>\n",
       "    .dataframe tbody tr th:only-of-type {\n",
       "        vertical-align: middle;\n",
       "    }\n",
       "\n",
       "    .dataframe tbody tr th {\n",
       "        vertical-align: top;\n",
       "    }\n",
       "\n",
       "    .dataframe thead th {\n",
       "        text-align: right;\n",
       "    }\n",
       "</style>\n",
       "<table border=\"1\" class=\"dataframe\">\n",
       "  <thead>\n",
       "    <tr style=\"text-align: right;\">\n",
       "      <th></th>\n",
       "      <th>Age</th>\n",
       "      <th>Gender</th>\n",
       "      <th>family_history</th>\n",
       "      <th>work_interfere</th>\n",
       "    </tr>\n",
       "  </thead>\n",
       "  <tbody>\n",
       "    <tr>\n",
       "      <th>2196</th>\n",
       "      <td>33</td>\n",
       "      <td>0</td>\n",
       "      <td>1</td>\n",
       "      <td>0</td>\n",
       "    </tr>\n",
       "    <tr>\n",
       "      <th>410</th>\n",
       "      <td>33</td>\n",
       "      <td>0</td>\n",
       "      <td>1</td>\n",
       "      <td>2</td>\n",
       "    </tr>\n",
       "    <tr>\n",
       "      <th>1389</th>\n",
       "      <td>33</td>\n",
       "      <td>0</td>\n",
       "      <td>1</td>\n",
       "      <td>1</td>\n",
       "    </tr>\n",
       "    <tr>\n",
       "      <th>888</th>\n",
       "      <td>26</td>\n",
       "      <td>0</td>\n",
       "      <td>0</td>\n",
       "      <td>0</td>\n",
       "    </tr>\n",
       "    <tr>\n",
       "      <th>1772</th>\n",
       "      <td>39</td>\n",
       "      <td>0</td>\n",
       "      <td>0</td>\n",
       "      <td>0</td>\n",
       "    </tr>\n",
       "  </tbody>\n",
       "</table>\n",
       "</div>"
      ],
      "text/plain": [
       "      Age  Gender  family_history  work_interfere\n",
       "2196   33       0               1               0\n",
       "410    33       0               1               2\n",
       "1389   33       0               1               1\n",
       "888    26       0               0               0\n",
       "1772   39       0               0               0"
      ]
     },
     "execution_count": 12,
     "metadata": {},
     "output_type": "execute_result"
    }
   ],
   "source": [
    "val.head()"
   ]
  },
  {
   "cell_type": "code",
   "execution_count": 13,
   "metadata": {
    "colab": {
     "base_uri": "https://localhost:8080/"
    },
    "id": "yEV1dDVSn1qb",
    "outputId": "0b095214-5bdf-458e-892e-c19a90e45f9c"
   },
   "outputs": [
    {
     "name": "stdout",
     "output_type": "stream",
     "text": [
      "train shape is (2014, 4)\n",
      "validation shape is (504, 4)\n"
     ]
    }
   ],
   "source": [
    "print('train shape is', train.shape)\n",
    "print('validation shape is', val.shape)\n"
   ]
  },
  {
   "cell_type": "code",
   "execution_count": 14,
   "metadata": {
    "id": "sMBlQBwvoUzw"
   },
   "outputs": [],
   "source": [
    "train = train.values\n",
    "val = val.values"
   ]
  },
  {
   "cell_type": "code",
   "execution_count": 15,
   "metadata": {
    "id": "93bvydSvZ7Nb"
   },
   "outputs": [],
   "source": [
    "train = np.reshape(train, ((len(train), 4, 1, 1)))\n",
    "val = np.reshape(val, (len(val), 4, 1, 1))"
   ]
  },
  {
   "cell_type": "markdown",
   "metadata": {
    "id": "xlpKYuh1UCDZ"
   },
   "source": [
    "Modeling"
   ]
  },
  {
   "cell_type": "code",
   "execution_count": 16,
   "metadata": {
    "id": "ZC3I6F2rq7v5"
   },
   "outputs": [],
   "source": [
    "cnnmodel = tf.keras.Sequential([\n",
    "    tf.keras.layers.Conv2D(256, kernel_size=(1, 1),\n",
    "                 activation='relu',\n",
    "                 input_shape= [4, 1, 1]),\n",
    "    tf.keras.layers.MaxPooling2D(pool_size=(1, 1)),        \n",
    "    tf.keras.layers.Conv2D(64, (1, 1), activation='relu'),\n",
    "    tf.keras.layers.MaxPooling2D(pool_size=(1, 1)),\n",
    "    tf.keras.layers.Conv2D(32, (1, 1), activation='relu'),\n",
    "    tf.keras.layers.MaxPooling2D(pool_size=(1, 1)),\n",
    "    tf.keras.layers.Conv2D(32, (1, 1), activation='relu'),\n",
    "    tf.keras.layers.MaxPooling2D(pool_size=(1, 1)),\n",
    "    tf.keras.layers.Flatten(),\n",
    "    tf.keras.layers.Dense(512, activation='relu'),\n",
    "    tf.keras.layers.Dense(256, activation='relu'),\n",
    "    tf.keras.layers.Dropout(0.5),\n",
    "    tf.keras.layers.Dense(1, activation='sigmoid')\n",
    "])"
   ]
  },
  {
   "cell_type": "code",
   "execution_count": 17,
   "metadata": {
    "colab": {
     "base_uri": "https://localhost:8080/"
    },
    "id": "_dj0DSTnVsKu",
    "outputId": "4ca4a3f5-994a-4c90-8169-59e38101cee9"
   },
   "outputs": [
    {
     "name": "stdout",
     "output_type": "stream",
     "text": [
      "Model: \"sequential\"\n",
      "_________________________________________________________________\n",
      "Layer (type)                 Output Shape              Param #   \n",
      "=================================================================\n",
      "conv2d (Conv2D)              (None, 4, 1, 256)         512       \n",
      "_________________________________________________________________\n",
      "max_pooling2d (MaxPooling2D) (None, 4, 1, 256)         0         \n",
      "_________________________________________________________________\n",
      "conv2d_1 (Conv2D)            (None, 4, 1, 64)          16448     \n",
      "_________________________________________________________________\n",
      "max_pooling2d_1 (MaxPooling2 (None, 4, 1, 64)          0         \n",
      "_________________________________________________________________\n",
      "conv2d_2 (Conv2D)            (None, 4, 1, 32)          2080      \n",
      "_________________________________________________________________\n",
      "max_pooling2d_2 (MaxPooling2 (None, 4, 1, 32)          0         \n",
      "_________________________________________________________________\n",
      "conv2d_3 (Conv2D)            (None, 4, 1, 32)          1056      \n",
      "_________________________________________________________________\n",
      "max_pooling2d_3 (MaxPooling2 (None, 4, 1, 32)          0         \n",
      "_________________________________________________________________\n",
      "flatten (Flatten)            (None, 128)               0         \n",
      "_________________________________________________________________\n",
      "dense (Dense)                (None, 512)               66048     \n",
      "_________________________________________________________________\n",
      "dense_1 (Dense)              (None, 256)               131328    \n",
      "_________________________________________________________________\n",
      "dropout (Dropout)            (None, 256)               0         \n",
      "_________________________________________________________________\n",
      "dense_2 (Dense)              (None, 1)                 257       \n",
      "=================================================================\n",
      "Total params: 217,729\n",
      "Trainable params: 217,729\n",
      "Non-trainable params: 0\n",
      "_________________________________________________________________\n"
     ]
    }
   ],
   "source": [
    "cnnmodel.summary()"
   ]
  },
  {
   "cell_type": "code",
   "execution_count": 18,
   "metadata": {
    "id": "GyfyztwuMD2g"
   },
   "outputs": [],
   "source": [
    "checkpoint_filepath = '/content/drive/MyDrive/jet data/models/cnn'"
   ]
  },
  {
   "cell_type": "code",
   "execution_count": 19,
   "metadata": {
    "id": "tdRi-jvuLhsJ"
   },
   "outputs": [],
   "source": [
    "model_checkpoint_callback = tf.keras.callbacks.ModelCheckpoint(\n",
    "    filepath=checkpoint_filepath,\n",
    "    monitor='val_accuracy',\n",
    "    mode='max',\n",
    "    save_best_only=True)"
   ]
  },
  {
   "cell_type": "code",
   "execution_count": 20,
   "metadata": {
    "id": "d5O9OpL5VGXD"
   },
   "outputs": [],
   "source": [
    "cnnmodel.compile(loss='binary_crossentropy',\n",
    "              optimizer= 'adam',\n",
    "              metrics=[['accuracy', tf.keras.metrics.Precision(), tf.keras.metrics.Recall(), tf.keras.metrics.RootMeanSquaredError(), tf.keras.metrics.MeanSquaredError(), tf.keras.metrics.MeanAbsoluteError()]])"
   ]
  },
  {
   "cell_type": "code",
   "execution_count": 21,
   "metadata": {
    "id": "LJRJbsh4fiE9"
   },
   "outputs": [],
   "source": [
    "batch_size = 32"
   ]
  },
  {
   "cell_type": "code",
   "execution_count": 22,
   "metadata": {
    "colab": {
     "base_uri": "https://localhost:8080/"
    },
    "id": "Fm49a6RxVFRE",
    "outputId": "97ef49bb-30b1-4e9e-b208-0b731db71644"
   },
   "outputs": [
    {
     "name": "stdout",
     "output_type": "stream",
     "text": [
      "WARNING:tensorflow:From C:\\Users\\NCC\\anaconda3\\envs\\tensor-kera evn\\lib\\site-packages\\tensorflow\\python\\training\\tracking\\tracking.py:111: Model.state_updates (from tensorflow.python.keras.engine.training) is deprecated and will be removed in a future version.\n",
      "Instructions for updating:\n",
      "This property should not be used in TensorFlow 2.0, as updates are applied automatically.\n",
      "WARNING:tensorflow:From C:\\Users\\NCC\\anaconda3\\envs\\tensor-kera evn\\lib\\site-packages\\tensorflow\\python\\training\\tracking\\tracking.py:111: Layer.updates (from tensorflow.python.keras.engine.base_layer) is deprecated and will be removed in a future version.\n",
      "Instructions for updating:\n",
      "This property should not be used in TensorFlow 2.0, as updates are applied automatically.\n",
      "INFO:tensorflow:Assets written to: /content/drive/MyDrive/jet data/models\\cnn\\assets\n",
      "INFO:tensorflow:Assets written to: /content/drive/MyDrive/jet data/models\\cnn\\assets\n",
      "INFO:tensorflow:Assets written to: /content/drive/MyDrive/jet data/models\\cnn\\assets\n"
     ]
    }
   ],
   "source": [
    "train = np.asarray(train).astype(np.float32)\n",
    "val = np.asarray(val).astype(np.float32)\n",
    "history = cnnmodel.fit(train, train_label, batch_size = batch_size, epochs = 100, verbose = 0,\n",
    "                   steps_per_epoch = len(train) // batch_size,\n",
    "                   validation_steps = len(val) // batch_size, \n",
    "                   validation_data = (val, val_label),\n",
    "                   callbacks = [model_checkpoint_callback])"
   ]
  },
  {
   "cell_type": "code",
   "execution_count": 23,
   "metadata": {},
   "outputs": [],
   "source": [
    "#ypred = cnnmodel.predict(val)\n",
    "#print(ypred)"
   ]
  },
  {
   "cell_type": "code",
   "execution_count": 24,
   "metadata": {
    "colab": {
     "base_uri": "https://localhost:8080/",
     "height": 544
    },
    "id": "LpOm_7NjsGMA",
    "outputId": "5f334f89-643f-46d5-8256-98eebd70e5b8"
   },
   "outputs": [
    {
     "data": {
      "image/png": "[encoded data removed]",
      "text/plain": [
       "<Figure size 432x288 with 1 Axes>"
      ]
     },
     "metadata": {
      "needs_background": "light"
     },
     "output_type": "display_data"
    },
    {
     "data": {
      "image/png": "[encoded data removed]",
      "text/plain": [
       "<Figure size 432x288 with 1 Axes>"
      ]
     },
     "metadata": {
      "needs_background": "light"
     },
     "output_type": "display_data"
    }
   ],
   "source": [
    "import matplotlib.pyplot as plt\n",
    "acc = history.history['accuracy']\n",
    "val_acc = history.history['val_accuracy']\n",
    "loss = history.history['loss']\n",
    "val_loss = history.history['val_loss']\n",
    "\n",
    "epochs = range(len(acc))\n",
    "\n",
    "\n",
    "plt.plot(epochs, acc, 'r', label='Training accuracy')\n",
    "plt.plot(epochs, val_acc, 'b', label='Validation accuracy')\n",
    "plt.title('Training and validation accuracy')\n",
    "plt.legend()\n",
    "plt.figure()\n",
    "\n",
    "plt.plot(epochs, loss, 'r', label='Training Loss')\n",
    "plt.plot(epochs, val_loss, 'b', label='Validation Loss')\n",
    "plt.title('Training and validation loss')\n",
    "plt.legend()\n",
    "\n",
    "plt.show()"
   ]
  },
  {
   "cell_type": "markdown",
   "metadata": {
    "id": "F5KOZwv9pFJH"
   },
   "source": [
    "Model Evaluation on validation set"
   ]
  },
  {
   "cell_type": "code",
   "execution_count": 25,
   "metadata": {
    "id": "h99McpMSeFCs"
   },
   "outputs": [],
   "source": [
    "#cnnmodel = tf.keras.models.load_model('/content/drive/MyDrive/jet data/models/cnn')"
   ]
  },
  {
   "cell_type": "code",
   "execution_count": 26,
   "metadata": {
    "colab": {
     "base_uri": "https://localhost:8080/"
    },
    "id": "LdeEbVgTfBB6",
    "outputId": "dcf11928-52b0-4b46-a468-d78ca37f9a4d"
   },
   "outputs": [
    {
     "name": "stdout",
     "output_type": "stream",
     "text": [
      "The Training metrics are:\n",
      "63/63 [==============================] - 0s 3ms/step - loss: 0.3829 - accuracy: 0.8361 - precision: 0.7780 - recall: 0.9515 - root_mean_squared_error: 0.3451 - mean_squared_error: 0.1191 - mean_absolute_error: 0.2487\n"
     ]
    },
    {
     "data": {
      "text/plain": [
       "[0.38287243247032166,\n",
       " 0.8361469507217407,\n",
       " 0.7779539823532104,\n",
       " 0.9515033960342407,\n",
       " 0.34511473774909973,\n",
       " 0.11910419166088104,\n",
       " 0.24869735538959503]"
      ]
     },
     "execution_count": 26,
     "metadata": {},
     "output_type": "execute_result"
    }
   ],
   "source": [
    "#training metrics in order:\n",
    "#loss, accuracy, precision, recall, RMSE\n",
    "print('The Training metrics are:')\n",
    "cnnmodel.evaluate(train, train_label)"
   ]
  },
  {
   "cell_type": "code",
   "execution_count": 27,
   "metadata": {
    "colab": {
     "base_uri": "https://localhost:8080/"
    },
    "id": "Z_0UgMa1bPSV",
    "outputId": "b123736c-276f-487e-ae81-5b42f9166efc"
   },
   "outputs": [
    {
     "name": "stdout",
     "output_type": "stream",
     "text": [
      "The validation metrics are:\n",
      "16/16 [==============================] - 0s 2ms/step - loss: 0.4324 - accuracy: 0.8175 - precision: 0.7492 - recall: 0.9342 - root_mean_squared_error: 0.3685 - mean_squared_error: 0.1358 - mean_absolute_error: 0.2621\n"
     ]
    },
    {
     "data": {
      "text/plain": [
       "[0.43237659335136414,\n",
       " 0.817460298538208,\n",
       " 0.7491748929023743,\n",
       " 0.9341563582420349,\n",
       " 0.3684600591659546,\n",
       " 0.13576281070709229,\n",
       " 0.26213300228118896]"
      ]
     },
     "execution_count": 27,
     "metadata": {},
     "output_type": "execute_result"
    }
   ],
   "source": [
    "#validation metrics in order:\n",
    "#loss, accuracy, precision, recall, RMSE\n",
    "print('The validation metrics are:')\n",
    "cnnmodel.evaluate(val, val_label)"
   ]
  },
  {
   "cell_type": "code",
   "execution_count": 28,
   "metadata": {
    "id": "Mh6Gl09DgJ8B"
   },
   "outputs": [
    {
     "name": "stdout",
     "output_type": "stream",
     "text": [
      "[[0.11015496]\n",
      " [0.835382  ]\n",
      " [0.7948005 ]\n",
      " [0.02639216]\n",
      " [0.08228016]\n",
      " [0.1092822 ]\n",
      " [0.5567871 ]\n",
      " [0.8252381 ]\n",
      " [0.8318594 ]\n",
      " [0.07142684]\n",
      " [0.02784523]\n",
      " [0.7703162 ]\n",
      " [0.02639216]\n",
      " [0.699907  ]\n",
      " [0.794595  ]\n",
      " [0.79398775]\n",
      " [0.79645765]\n",
      " [0.63893217]\n",
      " [0.03748247]\n",
      " [0.03748247]\n",
      " [0.8540578 ]\n",
      " [0.11586025]\n",
      " [0.79099256]\n",
      " [0.03501496]\n",
      " [0.88097584]\n",
      " [0.67954195]\n",
      " [0.03501496]\n",
      " [0.9579666 ]\n",
      " [0.03501496]\n",
      " [0.8245363 ]\n",
      " [0.79645765]\n",
      " [0.63893217]\n",
      " [0.02784523]\n",
      " [0.8599944 ]\n",
      " [0.7991258 ]\n",
      " [0.84707856]\n",
      " [0.5114091 ]\n",
      " [0.7942456 ]\n",
      " [0.08228016]\n",
      " [0.79662913]\n",
      " [0.18185139]\n",
      " [0.8440873 ]\n",
      " [0.10554367]\n",
      " [0.8913259 ]\n",
      " [0.02087581]\n",
      " [0.15230957]\n",
      " [0.804919  ]\n",
      " [0.9030315 ]\n",
      " [0.58610755]\n",
      " [0.5273542 ]\n",
      " [0.8038063 ]\n",
      " [0.5456488 ]\n",
      " [0.02784523]\n",
      " [0.8440873 ]\n",
      " [0.05127826]\n",
      " [0.8647799 ]\n",
      " [0.5795519 ]\n",
      " [0.8608527 ]\n",
      " [0.11586025]\n",
      " [0.10318172]\n",
      " [0.02639216]\n",
      " [0.7991258 ]\n",
      " [0.02784523]\n",
      " [0.1608657 ]\n",
      " [0.02941877]\n",
      " [0.835382  ]\n",
      " [0.804919  ]\n",
      " [0.1064752 ]\n",
      " [0.1092822 ]\n",
      " [0.79398775]\n",
      " [0.11107355]\n",
      " [0.86175346]\n",
      " [0.5182503 ]\n",
      " [0.21858251]\n",
      " [0.02784523]\n",
      " [0.81473243]\n",
      " [0.03748247]\n",
      " [0.77230597]\n",
      " [0.03107959]\n",
      " [0.03291419]\n",
      " [0.6066969 ]\n",
      " [0.5567871 ]\n",
      " [0.06491598]\n",
      " [0.19658855]\n",
      " [0.6146195 ]\n",
      " [0.8017263 ]\n",
      " [0.5138605 ]\n",
      " [0.11015496]\n",
      " [0.82577974]\n",
      " [0.10318172]\n",
      " [0.11715481]\n",
      " [0.8608527 ]\n",
      " [0.03291419]\n",
      " [0.6146195 ]\n",
      " [0.5456488 ]\n",
      " [0.8697981 ]\n",
      " [0.7948005 ]\n",
      " [0.5795519 ]\n",
      " [0.01636088]\n",
      " [0.03748247]\n",
      " [0.8132732 ]\n",
      " [0.797964  ]\n",
      " [0.66571826]\n",
      " [0.03284106]\n",
      " [0.09868681]\n",
      " [0.8478205 ]\n",
      " [0.11586025]\n",
      " [0.8446703 ]\n",
      " [0.82816255]\n",
      " [0.02087581]\n",
      " [0.03107959]\n",
      " [0.79099256]\n",
      " [0.10865507]\n",
      " [0.8478205 ]\n",
      " [0.11211231]\n",
      " [0.8017263 ]\n",
      " [0.11211231]\n",
      " [0.07316044]\n",
      " [0.02503008]\n",
      " [0.99311244]\n",
      " [0.8449111 ]\n",
      " [0.8591371 ]\n",
      " [0.8132732 ]\n",
      " [0.79099256]\n",
      " [0.6066969 ]\n",
      " [0.72404444]\n",
      " [0.85827935]\n",
      " [0.8478205 ]\n",
      " [0.84982526]\n",
      " [0.7942456 ]\n",
      " [0.9203434 ]\n",
      " [0.02357778]\n",
      " [0.8446703 ]\n",
      " [0.03107959]\n",
      " [0.81473243]\n",
      " [0.723463  ]\n",
      " [0.01965269]\n",
      " [0.82963926]\n",
      " [0.5456488 ]\n",
      " [0.6536123 ]\n",
      " [0.03501496]\n",
      " [0.1532653 ]\n",
      " [0.02503008]\n",
      " [0.84982526]\n",
      " [0.10318172]\n",
      " [0.63893217]\n",
      " [0.02639216]\n",
      " [0.9999852 ]\n",
      " [0.02639216]\n",
      " [0.03748247]\n",
      " [0.8070395 ]\n",
      " [0.699907  ]\n",
      " [0.84638894]\n",
      " [0.8569318 ]\n",
      " [0.9106245 ]\n",
      " [0.7948005 ]\n",
      " [0.74280995]\n",
      " [0.8699094 ]\n",
      " [0.1551972 ]\n",
      " [0.5355102 ]\n",
      " [0.699907  ]\n",
      " [0.78822386]\n",
      " [0.04102048]\n",
      " [0.82963926]\n",
      " [0.13047594]\n",
      " [0.03107959]\n",
      " [0.90186393]\n",
      " [0.04102048]\n",
      " [0.8591371 ]\n",
      " [0.5273542 ]\n",
      " [0.8043674 ]\n",
      " [0.10318172]\n",
      " [0.9622361 ]\n",
      " [0.5456488 ]\n",
      " [0.8070395 ]\n",
      " [0.79099256]\n",
      " [0.05758378]\n",
      " [0.02503008]\n",
      " [0.5681107 ]\n",
      " [0.06315503]\n",
      " [0.79645765]\n",
      " [0.8312488 ]\n",
      " [0.03107959]\n",
      " [0.02784523]\n",
      " [0.998188  ]\n",
      " [0.5567871 ]\n",
      " [0.8070395 ]\n",
      " [0.10739833]\n",
      " [0.02357778]\n",
      " [0.7088403 ]\n",
      " [0.66571826]\n",
      " [0.7991258 ]\n",
      " [0.7653957 ]\n",
      " [0.01117122]\n",
      " [0.79662913]\n",
      " [0.02087581]\n",
      " [0.8207882 ]\n",
      " [0.07316044]\n",
      " [0.8994422 ]\n",
      " [0.89975363]\n",
      " [0.79662913]\n",
      " [0.75620466]\n",
      " [0.97529036]\n",
      " [0.08228016]\n",
      " [0.04577675]\n",
      " [0.5795519 ]\n",
      " [0.8207882 ]\n",
      " [0.02639216]\n",
      " [0.79662913]\n",
      " [0.03107959]\n",
      " [0.9964331 ]\n",
      " [0.05758378]\n",
      " [0.8599944 ]\n",
      " [0.8520038 ]\n",
      " [0.90355456]\n",
      " [0.03291419]\n",
      " [0.7942456 ]\n",
      " [0.79645765]\n",
      " [0.00688928]\n",
      " [0.15139139]\n",
      " [0.02784523]\n",
      " [0.79645765]\n",
      " [0.79645765]\n",
      " [0.04577675]\n",
      " [0.7088403 ]\n",
      " [0.5355102 ]\n",
      " [0.852636  ]\n",
      " [0.79662913]\n",
      " [0.8928416 ]\n",
      " [0.03291419]\n",
      " [0.6523847 ]\n",
      " [0.5795519 ]\n",
      " [0.82963926]\n",
      " [0.1811564 ]\n",
      " [0.79493225]\n",
      " [0.52588916]\n",
      " [0.03107959]\n",
      " [0.14441359]\n",
      " [0.03501496]\n",
      " [0.1608657 ]\n",
      " [0.10253274]\n",
      " [0.8428849 ]\n",
      " [0.5231188 ]\n",
      " [0.8599944 ]\n",
      " [0.03748247]\n",
      " [0.5182503 ]\n",
      " [0.08228016]\n",
      " [0.01636088]\n",
      " [0.72404444]\n",
      " [0.82851076]\n",
      " [0.7141973 ]\n",
      " [0.85070586]\n",
      " [0.7942456 ]\n",
      " [0.11354843]\n",
      " [0.03748247]\n",
      " [0.06491598]\n",
      " [0.8629644 ]\n",
      " [0.8132732 ]\n",
      " [0.804919  ]\n",
      " [0.19805142]\n",
      " [0.09055835]\n",
      " [0.1608657 ]\n",
      " [0.11107355]\n",
      " [0.5795519 ]\n",
      " [0.8540578 ]\n",
      " [0.82963926]\n",
      " [0.7991258 ]\n",
      " [0.02784523]\n",
      " [0.7948005 ]\n",
      " [0.8170245 ]\n",
      " [0.5795519 ]\n",
      " [0.02357778]\n",
      " [0.7948005 ]\n",
      " [0.80119497]\n",
      " [0.02639216]\n",
      " [0.02357778]\n",
      " [0.09218997]\n",
      " [0.86175346]\n",
      " [0.8132732 ]\n",
      " [0.8097014 ]\n",
      " [0.7088403 ]\n",
      " [0.602818  ]\n",
      " [0.02784523]\n",
      " [0.8170245 ]\n",
      " [0.90772605]\n",
      " [0.10318172]\n",
      " [0.05127826]\n",
      " [0.05127826]\n",
      " [0.6940423 ]\n",
      " [0.8608527 ]\n",
      " [0.59121275]\n",
      " [0.52588916]\n",
      " [0.85070586]\n",
      " [0.02784523]\n",
      " [0.03501496]\n",
      " [0.04102048]\n",
      " [0.5681107 ]\n",
      " [0.10455346]\n",
      " [0.03291419]\n",
      " [0.6433592 ]\n",
      " [0.03291419]\n",
      " [0.6523847 ]\n",
      " [0.05127826]\n",
      " [0.63893217]\n",
      " [0.82851076]\n",
      " [0.8070395 ]\n",
      " [0.5110731 ]\n",
      " [0.02820417]\n",
      " [0.79852724]\n",
      " [0.5795519 ]\n",
      " [0.8097014 ]\n",
      " [0.852636  ]\n",
      " [0.07142684]\n",
      " [0.7154557 ]\n",
      " [0.03107959]\n",
      " [0.7942456 ]\n",
      " [0.723463  ]\n",
      " [0.9944341 ]\n",
      " [0.02941877]\n",
      " [0.82568574]\n",
      " [0.1532653 ]\n",
      " [0.63893217]\n",
      " [0.62650037]\n",
      " [0.602818  ]\n",
      " [0.8170245 ]\n",
      " [0.5138605 ]\n",
      " [0.02784523]\n",
      " [0.02357778]\n",
      " [0.8582789 ]\n",
      " [0.8608527 ]\n",
      " [0.17377901]\n",
      " [0.5795519 ]\n",
      " [0.03107959]\n",
      " [0.1092822 ]\n",
      " [0.8262309 ]\n",
      " [0.03501496]\n",
      " [0.6523847 ]\n",
      " [0.8278669 ]\n",
      " [0.02087581]\n",
      " [0.5567871 ]\n",
      " [0.04459432]\n",
      " [0.8608527 ]\n",
      " [0.09218997]\n",
      " [0.02357778]\n",
      " [0.02639216]\n",
      " [0.52588916]\n",
      " [0.8599944 ]\n",
      " [0.8245363 ]\n",
      " [0.03284106]\n",
      " [0.03501496]\n",
      " [0.5355102 ]\n",
      " [0.804919  ]\n",
      " [0.723463  ]\n",
      " [0.79662913]\n",
      " [0.05758378]\n",
      " [0.20618272]\n",
      " [0.8070395 ]\n",
      " [0.5182503 ]\n",
      " [0.8207882 ]\n",
      " [0.02503008]\n",
      " [0.89975363]\n",
      " [0.03748247]\n",
      " [0.8928416 ]\n",
      " [0.59121275]\n",
      " [0.03291419]\n",
      " [0.794595  ]\n",
      " [0.602818  ]\n",
      " [0.9964331 ]\n",
      " [0.602818  ]\n",
      " [0.5456488 ]\n",
      " [0.5231188 ]\n",
      " [0.6146195 ]\n",
      " [0.04102048]\n",
      " [0.8262309 ]\n",
      " [0.03748247]\n",
      " [0.6940423 ]\n",
      " [0.03291419]\n",
      " [0.5567871 ]\n",
      " [0.84707856]\n",
      " [0.0498645 ]\n",
      " [0.87230486]\n",
      " [0.11586025]\n",
      " [0.5681107 ]\n",
      " [0.79662913]\n",
      " [0.699907  ]\n",
      " [0.5182503 ]\n",
      " [0.15227333]\n",
      " [0.8245363 ]\n",
      " [0.7991258 ]\n",
      " [0.10835117]\n",
      " [0.8038063 ]\n",
      " [0.5182503 ]\n",
      " [0.7604543 ]\n",
      " [0.03748247]\n",
      " [0.8070395 ]\n",
      " [0.7399952 ]\n",
      " [0.10318172]\n",
      " [0.02639216]\n",
      " [0.11715481]\n",
      " [0.091353  ]\n",
      " [0.03748247]\n",
      " [0.8591371 ]\n",
      " [0.82816255]\n",
      " [0.79493225]\n",
      " [0.02087581]\n",
      " [0.8132732 ]\n",
      " [0.8278669 ]\n",
      " [0.02941877]\n",
      " [0.06315503]\n",
      " [0.73566335]\n",
      " [0.2863037 ]\n",
      " [0.09218997]\n",
      " [0.62650037]\n",
      " [0.01636088]\n",
      " [0.602818  ]\n",
      " [0.5456488 ]\n",
      " [0.5795519 ]\n",
      " [0.03999388]\n",
      " [0.8132732 ]\n",
      " [0.02217016]\n",
      " [0.04577675]\n",
      " [0.03748247]\n",
      " [0.8170245 ]\n",
      " [0.8132732 ]\n",
      " [0.11586025]\n",
      " [0.02087581]\n",
      " [0.5114091 ]\n",
      " [0.02941877]\n",
      " [0.8017263 ]\n",
      " [0.62650037]\n",
      " [0.83751845]\n",
      " [0.74280995]\n",
      " [0.03501496]\n",
      " [0.5182503 ]\n",
      " [0.12859449]\n",
      " [0.8591371 ]\n",
      " [0.62650037]\n",
      " [0.11107355]\n",
      " [0.02784523]\n",
      " [0.8446703 ]\n",
      " [0.699907  ]\n",
      " [0.02503008]\n",
      " [0.11509573]\n",
      " [0.8629644 ]\n",
      " [0.7942456 ]\n",
      " [0.79852724]\n",
      " [0.5355102 ]\n",
      " [0.77230597]\n",
      " [0.82816255]\n",
      " [0.52588916]\n",
      " [0.10134172]\n",
      " [0.5456488 ]\n",
      " [0.2404379 ]\n",
      " [0.8043674 ]\n",
      " [0.9955387 ]\n",
      " [0.79398775]\n",
      " [0.03107959]\n",
      " [0.84982526]\n",
      " [0.82851076]\n",
      " [0.8038786 ]\n",
      " [0.08228016]\n",
      " [0.02217016]\n",
      " [0.11715481]\n",
      " [0.03107959]\n",
      " [0.02639216]\n",
      " [0.8070395 ]\n",
      " [0.79662913]\n",
      " [0.02639216]\n",
      " [0.03748247]\n",
      " [0.81473243]\n",
      " [0.02087581]\n",
      " [0.78822386]\n",
      " [0.02941877]\n",
      " [0.02941877]\n",
      " [0.5110731 ]\n",
      " [0.10554367]\n",
      " [0.5795519 ]\n",
      " [0.07316044]\n",
      " [0.1064752 ]\n",
      " [0.6867758 ]\n",
      " [0.7948005 ]\n",
      " [0.6066969 ]\n",
      " [0.51511776]\n",
      " [0.5355102 ]\n",
      " [0.1092822 ]\n",
      " [0.02217016]\n",
      " [0.02503008]\n",
      " [0.74280995]\n",
      " [0.8994422 ]\n",
      " [0.15014428]\n",
      " [0.6536123 ]\n",
      " [0.7948005 ]\n",
      " [0.79398775]\n",
      " [0.19805142]\n",
      " [0.08228016]\n",
      " [0.52588916]\n",
      " [0.5681107 ]\n",
      " [0.919503  ]\n",
      " [0.8449111 ]\n",
      " [0.02217016]\n",
      " [0.602818  ]\n",
      " [0.04102042]\n",
      " [0.8994422 ]\n",
      " [0.9955387 ]]\n"
     ]
    }
   ],
   "source": [
    "#obtaining confusion matrics for validation set\n",
    "prediction = cnnmodel.predict(val)\n",
    "print(prediction)\n",
    "\n",
    "cm = tf.math.confusion_matrix(val_label, prediction, num_classes=2)\n",
    "#defining function for confusion matrix display\n",
    "import seaborn as sns\n",
    "def show_confusion_matrix(cm, labels):\n",
    "  print('printing confusion matrix in diagram mode: ')\n",
    "  plt.figure(figsize=(4, 2))\n",
    "  sns.heatmap(cm, xticklabels=labels, yticklabels=labels, \n",
    "              annot=True, fmt='g')\n",
    "  plt.xlabel('Prediction')\n",
    "  plt.ylabel('Label')\n",
    "  plt.show()"
   ]
  },
  {
   "cell_type": "code",
   "execution_count": 29,
   "metadata": {
    "colab": {
     "base_uri": "https://localhost:8080/",
     "height": 515
    },
    "id": "CbOT1lx0j-Gm",
    "outputId": "753e160e-eb46-4565-8648-8da4276118c3"
   },
   "outputs": [
    {
     "name": "stdout",
     "output_type": "stream",
     "text": [
      "printing confusion matrix in diagram mode: \n"
     ]
    },
    {
     "data": {
      "image/png": "[encoded data removed]",
      "text/plain": [
       "<Figure size 288x144 with 2 Axes>"
      ]
     },
     "metadata": {
      "needs_background": "light"
     },
     "output_type": "display_data"
    }
   ],
   "source": [
    "#subsequently, arrange in alphabetical order\n",
    "labels = ['No', 'Yes']     \n",
    "#confusion matrix display\n",
    "show_confusion_matrix(cm, labels)"
   ]
  },
  {
   "cell_type": "code",
   "execution_count": 30,
   "metadata": {
    "id": "GGih4rCd0Vtq"
   },
   "outputs": [
    {
     "data": {
      "text/html": [
       "<div>\n",
       "<style scoped>\n",
       "    .dataframe tbody tr th:only-of-type {\n",
       "        vertical-align: middle;\n",
       "    }\n",
       "\n",
       "    .dataframe tbody tr th {\n",
       "        vertical-align: top;\n",
       "    }\n",
       "\n",
       "    .dataframe thead th {\n",
       "        text-align: right;\n",
       "    }\n",
       "</style>\n",
       "<table border=\"1\" class=\"dataframe\">\n",
       "  <thead>\n",
       "    <tr style=\"text-align: right;\">\n",
       "      <th></th>\n",
       "      <th>Actual Value</th>\n",
       "      <th>CNN Prediction</th>\n",
       "      <th>CNN Error</th>\n",
       "    </tr>\n",
       "  </thead>\n",
       "  <tbody>\n",
       "    <tr>\n",
       "      <th>0</th>\n",
       "      <td>1</td>\n",
       "      <td>[0.11015496]</td>\n",
       "      <td>[[[32.889847], [32.16462], [32.2052], [32.9736...</td>\n",
       "    </tr>\n",
       "    <tr>\n",
       "      <th>1</th>\n",
       "      <td>1</td>\n",
       "      <td>[0.835382]</td>\n",
       "      <td>[[[32.889847], [32.16462], [32.2052], [32.9736...</td>\n",
       "    </tr>\n",
       "    <tr>\n",
       "      <th>2</th>\n",
       "      <td>1</td>\n",
       "      <td>[0.7948005]</td>\n",
       "      <td>[[[32.889847], [32.16462], [32.2052], [32.9736...</td>\n",
       "    </tr>\n",
       "    <tr>\n",
       "      <th>3</th>\n",
       "      <td>0</td>\n",
       "      <td>[0.026392162]</td>\n",
       "      <td>[[[25.889845], [25.164618], [25.2052], [25.973...</td>\n",
       "    </tr>\n",
       "    <tr>\n",
       "      <th>4</th>\n",
       "      <td>0</td>\n",
       "      <td>[0.08228016]</td>\n",
       "      <td>[[[38.889847], [38.16462], [38.2052], [38.9736...</td>\n",
       "    </tr>\n",
       "    <tr>\n",
       "      <th>...</th>\n",
       "      <td>...</td>\n",
       "      <td>...</td>\n",
       "      <td>...</td>\n",
       "    </tr>\n",
       "    <tr>\n",
       "      <th>499</th>\n",
       "      <td>0</td>\n",
       "      <td>[0.022170156]</td>\n",
       "      <td>[[[22.889845], [22.164618], [22.2052], [22.973...</td>\n",
       "    </tr>\n",
       "    <tr>\n",
       "      <th>500</th>\n",
       "      <td>0</td>\n",
       "      <td>[0.602818]</td>\n",
       "      <td>[[[33.889847], [33.16462], [33.2052], [33.9736...</td>\n",
       "    </tr>\n",
       "    <tr>\n",
       "      <th>501</th>\n",
       "      <td>0</td>\n",
       "      <td>[0.041020423]</td>\n",
       "      <td>[[[32.889847], [32.16462], [32.2052], [32.9736...</td>\n",
       "    </tr>\n",
       "    <tr>\n",
       "      <th>502</th>\n",
       "      <td>1</td>\n",
       "      <td>[0.8994422]</td>\n",
       "      <td>[[[44.889847], [44.16462], [44.2052], [44.9736...</td>\n",
       "    </tr>\n",
       "    <tr>\n",
       "      <th>503</th>\n",
       "      <td>1</td>\n",
       "      <td>[0.9955387]</td>\n",
       "      <td>[[[22.889845], [22.164618], [22.2052], [22.973...</td>\n",
       "    </tr>\n",
       "  </tbody>\n",
       "</table>\n",
       "<p>504 rows × 3 columns</p>\n",
       "</div>"
      ],
      "text/plain": [
       "     Actual Value CNN Prediction  \\\n",
       "0               1   [0.11015496]   \n",
       "1               1     [0.835382]   \n",
       "2               1    [0.7948005]   \n",
       "3               0  [0.026392162]   \n",
       "4               0   [0.08228016]   \n",
       "..            ...            ...   \n",
       "499             0  [0.022170156]   \n",
       "500             0     [0.602818]   \n",
       "501             0  [0.041020423]   \n",
       "502             1    [0.8994422]   \n",
       "503             1    [0.9955387]   \n",
       "\n",
       "                                             CNN Error  \n",
       "0    [[[32.889847], [32.16462], [32.2052], [32.9736...  \n",
       "1    [[[32.889847], [32.16462], [32.2052], [32.9736...  \n",
       "2    [[[32.889847], [32.16462], [32.2052], [32.9736...  \n",
       "3    [[[25.889845], [25.164618], [25.2052], [25.973...  \n",
       "4    [[[38.889847], [38.16462], [38.2052], [38.9736...  \n",
       "..                                                 ...  \n",
       "499  [[[22.889845], [22.164618], [22.2052], [22.973...  \n",
       "500  [[[33.889847], [33.16462], [33.2052], [33.9736...  \n",
       "501  [[[32.889847], [32.16462], [32.2052], [32.9736...  \n",
       "502  [[[44.889847], [44.16462], [44.2052], [44.9736...  \n",
       "503  [[[22.889845], [22.164618], [22.2052], [22.973...  \n",
       "\n",
       "[504 rows x 3 columns]"
      ]
     },
     "execution_count": 30,
     "metadata": {},
     "output_type": "execute_result"
    }
   ],
   "source": [
    "cnn_error = np.subtract(val, prediction)\n",
    "df = pd.DataFrame(list(zip(val_label, prediction, cnn_error)), \n",
    "    columns=['Actual Value', 'CNN Prediction', 'CNN Error'])\n",
    "#df.to_excel(\"result for cnn 80_20.xlsx\")\n",
    "df"
   ]
  },
  {
   "cell_type": "code",
   "execution_count": 31,
   "metadata": {},
   "outputs": [],
   "source": [
    "cnnmodel.save(\"C:/Users/NCC/Documents/MentalHealth/model/dumped.keras\")"
   ]
  },
  {
   "cell_type": "code",
   "execution_count": 33,
   "metadata": {},
   "outputs": [
    {
     "data": {
      "text/plain": [
       "<tensorflow.python.keras.engine.sequential.Sequential at 0x20806893850>"
      ]
     },
     "execution_count": 33,
     "metadata": {},
     "output_type": "execute_result"
    }
   ],
   "source": [
    "from tensorflow import keras\n",
    "keras.models.load_model(\"C:/Users/NCC/Documents/MentalHealth/model/dumped.keras\")"
   ]
  },
  {
   "cell_type": "code",
   "execution_count": null,
   "metadata": {},
   "outputs": [],
   "source": []
  }
 ],
 "metadata": {
  "accelerator": "GPU",
  "colab": {
   "collapsed_sections": [],
   "name": "JET_DDOS_2D-CNNipynb",
   "provenance": []
  },
  "kernelspec": {
   "display_name": "Python 3 (ipykernel)",
   "language": "python",
   "name": "python3"
  },
  "language_info": {
   "codemirror_mode": {
    "name": "ipython",
    "version": 3
   },
   "file_extension": ".py",
   "mimetype": "text/x-python",
   "name": "python",
   "nbconvert_exporter": "python",
   "pygments_lexer": "ipython3",
   "version": "3.8.13"
  }
 },
 "nbformat": 4,
 "nbformat_minor": 1
}
